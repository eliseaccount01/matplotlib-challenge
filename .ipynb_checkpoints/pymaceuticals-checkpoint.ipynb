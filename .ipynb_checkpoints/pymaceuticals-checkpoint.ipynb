{
 "cells": [
  {
   "cell_type": "code",
   "execution_count": 1,
   "metadata": {},
   "outputs": [
    {
     "data": {
      "text/html": [
       "<div>\n",
       "<style scoped>\n",
       "    .dataframe tbody tr th:only-of-type {\n",
       "        vertical-align: middle;\n",
       "    }\n",
       "\n",
       "    .dataframe tbody tr th {\n",
       "        vertical-align: top;\n",
       "    }\n",
       "\n",
       "    .dataframe thead th {\n",
       "        text-align: right;\n",
       "    }\n",
       "</style>\n",
       "<table border=\"1\" class=\"dataframe\">\n",
       "  <thead>\n",
       "    <tr style=\"text-align: right;\">\n",
       "      <th></th>\n",
       "      <th>Mouse ID</th>\n",
       "      <th>Drug</th>\n",
       "      <th>Timepoint</th>\n",
       "      <th>Tumor Volume (mm3)</th>\n",
       "      <th>Metastatic Sites</th>\n",
       "    </tr>\n",
       "  </thead>\n",
       "  <tbody>\n",
       "    <tr>\n",
       "      <th>0</th>\n",
       "      <td>f234</td>\n",
       "      <td>Stelasyn</td>\n",
       "      <td>0</td>\n",
       "      <td>45.000000</td>\n",
       "      <td>0</td>\n",
       "    </tr>\n",
       "    <tr>\n",
       "      <th>1</th>\n",
       "      <td>f234</td>\n",
       "      <td>Stelasyn</td>\n",
       "      <td>5</td>\n",
       "      <td>47.313491</td>\n",
       "      <td>0</td>\n",
       "    </tr>\n",
       "    <tr>\n",
       "      <th>2</th>\n",
       "      <td>f234</td>\n",
       "      <td>Stelasyn</td>\n",
       "      <td>10</td>\n",
       "      <td>47.904324</td>\n",
       "      <td>0</td>\n",
       "    </tr>\n",
       "    <tr>\n",
       "      <th>3</th>\n",
       "      <td>f234</td>\n",
       "      <td>Stelasyn</td>\n",
       "      <td>15</td>\n",
       "      <td>48.735197</td>\n",
       "      <td>1</td>\n",
       "    </tr>\n",
       "    <tr>\n",
       "      <th>4</th>\n",
       "      <td>f234</td>\n",
       "      <td>Stelasyn</td>\n",
       "      <td>20</td>\n",
       "      <td>51.112713</td>\n",
       "      <td>2</td>\n",
       "    </tr>\n",
       "  </tbody>\n",
       "</table>\n",
       "</div>"
      ],
      "text/plain": [
       "  Mouse ID      Drug  Timepoint  Tumor Volume (mm3)  Metastatic Sites\n",
       "0     f234  Stelasyn          0           45.000000                 0\n",
       "1     f234  Stelasyn          5           47.313491                 0\n",
       "2     f234  Stelasyn         10           47.904324                 0\n",
       "3     f234  Stelasyn         15           48.735197                 1\n",
       "4     f234  Stelasyn         20           51.112713                 2"
      ]
     },
     "execution_count": 1,
     "metadata": {},
     "output_type": "execute_result"
    }
   ],
   "source": [
    "# Dependencies and Setup\n",
    "%matplotlib inline\n",
    "import matplotlib.pyplot as plt \n",
    "import pandas as pd \n",
    "import numpy as np \n",
    "from scipy.stats import sem\n",
    "\n",
    "# Hide warning messages in notebook\n",
    "import warnings\n",
    "warnings.filterwarnings('ignore')\n",
    "\n",
    "# File to Load \n",
    "mouse_data_file = \"Resources/mouse_drug_data.csv\"\n",
    "clinicaltrial_data_file = \"Resources/clinicaltrial_data.csv\"\n",
    "\n",
    "# Read the Mouse and Drug Data and the Clinical Trial Data\n",
    "mouse_data = pd.read_csv(mouse_data_file)\n",
    "clinical_trial = pd.read_csv(clinicaltrial_data_file)\n",
    "\n",
    "# Combine the data into a single dataset\n",
    "data_set = pd.merge(mouse_data,clinical_trial, on =\"Mouse ID\")\n",
    "\n",
    "# Display the data table for preview\n",
    "data_set.head()"
   ]
  },
  {
   "cell_type": "code",
   "execution_count": 19,
   "metadata": {},
   "outputs": [
    {
     "data": {
      "text/html": [
       "<div>\n",
       "<style scoped>\n",
       "    .dataframe tbody tr th:only-of-type {\n",
       "        vertical-align: middle;\n",
       "    }\n",
       "\n",
       "    .dataframe tbody tr th {\n",
       "        vertical-align: top;\n",
       "    }\n",
       "\n",
       "    .dataframe thead th {\n",
       "        text-align: right;\n",
       "    }\n",
       "</style>\n",
       "<table border=\"1\" class=\"dataframe\">\n",
       "  <thead>\n",
       "    <tr style=\"text-align: right;\">\n",
       "      <th></th>\n",
       "      <th>Drug</th>\n",
       "      <th>Timepoint</th>\n",
       "      <th>Tumor Volume (mm3)</th>\n",
       "    </tr>\n",
       "  </thead>\n",
       "  <tbody>\n",
       "    <tr>\n",
       "      <th>0</th>\n",
       "      <td>Capomulin</td>\n",
       "      <td>0</td>\n",
       "      <td>45.000000</td>\n",
       "    </tr>\n",
       "    <tr>\n",
       "      <th>1</th>\n",
       "      <td>Capomulin</td>\n",
       "      <td>5</td>\n",
       "      <td>44.266086</td>\n",
       "    </tr>\n",
       "    <tr>\n",
       "      <th>2</th>\n",
       "      <td>Capomulin</td>\n",
       "      <td>10</td>\n",
       "      <td>43.084291</td>\n",
       "    </tr>\n",
       "    <tr>\n",
       "      <th>3</th>\n",
       "      <td>Capomulin</td>\n",
       "      <td>15</td>\n",
       "      <td>42.064317</td>\n",
       "    </tr>\n",
       "    <tr>\n",
       "      <th>4</th>\n",
       "      <td>Capomulin</td>\n",
       "      <td>20</td>\n",
       "      <td>40.716325</td>\n",
       "    </tr>\n",
       "  </tbody>\n",
       "</table>\n",
       "</div>"
      ],
      "text/plain": [
       "        Drug  Timepoint  Tumor Volume (mm3)\n",
       "0  Capomulin          0           45.000000\n",
       "1  Capomulin          5           44.266086\n",
       "2  Capomulin         10           43.084291\n",
       "3  Capomulin         15           42.064317\n",
       "4  Capomulin         20           40.716325"
      ]
     },
     "execution_count": 19,
     "metadata": {},
     "output_type": "execute_result"
    }
   ],
   "source": [
    "# Store the Mean Tumor Volume Data Grouped by Drug and Timepoint \n",
    "# mean_tumors_list =[]\n",
    "mean_tumor = data_set.groupby([\"Drug\",\"Timepoint\"]).mean()[\"Tumor Volume (mm3)\"]\n",
    "# mean_tumors.append(mean_tumor)\n",
    "# Convert to DataFrame\n",
    "# mean_tumors = pd.DataFrame(mean_tumors_list)\n",
    "tumor_df=pd.DataFrame(mean_tumor).reset_index()\n",
    "tumor_df.head()"
   ]
  },
  {
   "cell_type": "code",
   "execution_count": 3,
   "metadata": {},
   "outputs": [
    {
     "data": {
      "text/html": [
       "<div>\n",
       "<style scoped>\n",
       "    .dataframe tbody tr th:only-of-type {\n",
       "        vertical-align: middle;\n",
       "    }\n",
       "\n",
       "    .dataframe tbody tr th {\n",
       "        vertical-align: top;\n",
       "    }\n",
       "\n",
       "    .dataframe thead th {\n",
       "        text-align: right;\n",
       "    }\n",
       "</style>\n",
       "<table border=\"1\" class=\"dataframe\">\n",
       "  <thead>\n",
       "    <tr style=\"text-align: right;\">\n",
       "      <th></th>\n",
       "      <th>Drug</th>\n",
       "      <th>Timepoint</th>\n",
       "      <th>Tumor Volume (mm3)</th>\n",
       "    </tr>\n",
       "  </thead>\n",
       "  <tbody>\n",
       "    <tr>\n",
       "      <th>0</th>\n",
       "      <td>Capomulin</td>\n",
       "      <td>0</td>\n",
       "      <td>0.000000</td>\n",
       "    </tr>\n",
       "    <tr>\n",
       "      <th>1</th>\n",
       "      <td>Capomulin</td>\n",
       "      <td>5</td>\n",
       "      <td>0.448593</td>\n",
       "    </tr>\n",
       "    <tr>\n",
       "      <th>2</th>\n",
       "      <td>Capomulin</td>\n",
       "      <td>10</td>\n",
       "      <td>0.702684</td>\n",
       "    </tr>\n",
       "    <tr>\n",
       "      <th>3</th>\n",
       "      <td>Capomulin</td>\n",
       "      <td>15</td>\n",
       "      <td>0.838617</td>\n",
       "    </tr>\n",
       "    <tr>\n",
       "      <th>4</th>\n",
       "      <td>Capomulin</td>\n",
       "      <td>20</td>\n",
       "      <td>0.909731</td>\n",
       "    </tr>\n",
       "  </tbody>\n",
       "</table>\n",
       "</div>"
      ],
      "text/plain": [
       "        Drug  Timepoint  Tumor Volume (mm3)\n",
       "0  Capomulin          0            0.000000\n",
       "1  Capomulin          5            0.448593\n",
       "2  Capomulin         10            0.702684\n",
       "3  Capomulin         15            0.838617\n",
       "4  Capomulin         20            0.909731"
      ]
     },
     "execution_count": 3,
     "metadata": {},
     "output_type": "execute_result"
    }
   ],
   "source": [
    "# Store the Standard Error of Tumor Volumes Grouped by Drug and Timepoint\n",
    "tumor_error = data_set.groupby([\"Drug\",\"Timepoint\"]).sem()[\"Tumor Volume (mm3)\"]\n",
    "# tumor_df.sem(axis=0,skipna = False )\n",
    "# Convert to DataFrame\n",
    "tumor_error_df = pd.DataFrame(tumor_error).reset_index()\n",
    "# Preview DataFrame\n",
    "tumor_error_df.head()"
   ]
  },
  {
   "cell_type": "code",
   "execution_count": 4,
   "metadata": {},
   "outputs": [],
   "source": [
    "# Minor Data Munging to Re-Format the Data Frames\n",
    "# Preview that Reformatting worked"
   ]
  },
  {
   "cell_type": "code",
   "execution_count": 5,
   "metadata": {},
   "outputs": [],
   "source": [
    "#Find Drugs\n",
    "mean_capomulin = tumor_df.loc[tumor_df[\"Drug\"] == \"Capomulin\",:]\n",
    "mean_infubinol = tumor_df.loc[tumor_df[\"Drug\"] == \"Infubinol\",:]\n",
    "mean_ketapril = tumor_df.loc[tumor_df[\"Drug\"] == \"Ketapril\",:]\n",
    "mean_placebo = tumor_df.loc[tumor_df[\"Drug\"] == \"Placebo\",:]"
   ]
  },
  {
   "cell_type": "code",
   "execution_count": 6,
   "metadata": {},
   "outputs": [
    {
     "data": {
      "text/plain": [
       "<matplotlib.legend.Legend at 0x1a17149ac8>"
      ]
     },
     "execution_count": 6,
     "metadata": {},
     "output_type": "execute_result"
    },
    {
     "data": {
      "image/png": "[encoded data removed]",
      "text/plain": [
       "<Figure size 432x288 with 1 Axes>"
      ]
     },
     "metadata": {
      "needs_background": "light"
     },
     "output_type": "display_data"
    }
   ],
   "source": [
    "# plt.scatter(mean_capomulin [\"Timepoint\"],mean_capomulin[\"Tumor Volume (mm3)\"],marker = 's',color=\"mediumvioletred\") \n",
    "# plt.scatter(mean_infubinol [\"Timepoint\"],mean_infubinol[\"Tumor Volume (mm3)\"] ,marker = 'x',color=\"orange\") \n",
    "# plt.scatter(mean_ketapril [\"Timepoint\"],mean_ketapril[\"Tumor Volume (mm3)\"] ,marker = 'o',color=\"darkviolet\")\n",
    "# plt.scatter(mean_placebo [\"Timepoint\"],mean_placebo[\"Tumor Volume (mm3)\"],marker = 'd') \n",
    "\n",
    "# error bars \n",
    "plt.errorbar(mean_capomulin [\"Timepoint\"],mean_capomulin[\"Tumor Volume (mm3)\"],yerr = (.05 +.03 * mean_capomulin[\"Tumor Volume (mm3)\"]) , fmt ='s',color =\"mediumvioletred\",ls = \"--\")\n",
    "plt.errorbar(mean_infubinol [\"Timepoint\"],mean_infubinol[\"Tumor Volume (mm3)\"],yerr = (.05 +.03 * mean_infubinol[\"Tumor Volume (mm3)\"]) , fmt ='x',color =\"orange\",ls = \"--\") \n",
    "plt.errorbar(mean_ketapril [\"Timepoint\"],mean_ketapril[\"Tumor Volume (mm3)\"],yerr = (.05 +.03 * mean_ketapril[\"Tumor Volume (mm3)\"]) , fmt ='o', color=\"darkviolet\",ls = \"--\")\n",
    "plt.errorbar(mean_placebo [\"Timepoint\"],mean_placebo[\"Tumor Volume (mm3)\"],yerr = (.05 +.03 * mean_placebo[\"Tumor Volume (mm3)\"]) , fmt ='D',ls = \"--\")\n",
    "\n",
    "#Show Time \n",
    "plt.title(\"Tumor Response to Treatment\")\n",
    "plt.xlabel(\"Treatment Duration (Days)\")\n",
    "plt.ylabel(\"Tumor Volume (mm3)\")\n",
    "plt.grid(which='major', axis='y', linestyle='--')\n",
    "plt.legend([\"Capomulin\",\"Infubinol\",\"Ketapril\",\"Placebo\"])\n"
   ]
  },
  {
   "cell_type": "code",
   "execution_count": 134,
   "metadata": {},
   "outputs": [
    {
     "data": {
      "text/plain": [
       "<Figure size 432x288 with 0 Axes>"
      ]
     },
     "metadata": {},
     "output_type": "display_data"
    }
   ],
   "source": [
    "# Save plot \n",
    "plt.savefig(\"../Resources.png\")\n"
   ]
  },
  {
   "cell_type": "code",
   "execution_count": 8,
   "metadata": {},
   "outputs": [
    {
     "data": {
      "text/html": [
       "<div>\n",
       "<style scoped>\n",
       "    .dataframe tbody tr th:only-of-type {\n",
       "        vertical-align: middle;\n",
       "    }\n",
       "\n",
       "    .dataframe tbody tr th {\n",
       "        vertical-align: top;\n",
       "    }\n",
       "\n",
       "    .dataframe thead th {\n",
       "        text-align: right;\n",
       "    }\n",
       "</style>\n",
       "<table border=\"1\" class=\"dataframe\">\n",
       "  <thead>\n",
       "    <tr style=\"text-align: right;\">\n",
       "      <th></th>\n",
       "      <th>Drug</th>\n",
       "      <th>Timepoint</th>\n",
       "      <th>Metastatic Sites</th>\n",
       "    </tr>\n",
       "  </thead>\n",
       "  <tbody>\n",
       "    <tr>\n",
       "      <th>0</th>\n",
       "      <td>Capomulin</td>\n",
       "      <td>0</td>\n",
       "      <td>0.000000</td>\n",
       "    </tr>\n",
       "    <tr>\n",
       "      <th>1</th>\n",
       "      <td>Capomulin</td>\n",
       "      <td>5</td>\n",
       "      <td>0.160000</td>\n",
       "    </tr>\n",
       "    <tr>\n",
       "      <th>2</th>\n",
       "      <td>Capomulin</td>\n",
       "      <td>10</td>\n",
       "      <td>0.320000</td>\n",
       "    </tr>\n",
       "    <tr>\n",
       "      <th>3</th>\n",
       "      <td>Capomulin</td>\n",
       "      <td>15</td>\n",
       "      <td>0.375000</td>\n",
       "    </tr>\n",
       "    <tr>\n",
       "      <th>4</th>\n",
       "      <td>Capomulin</td>\n",
       "      <td>20</td>\n",
       "      <td>0.652174</td>\n",
       "    </tr>\n",
       "  </tbody>\n",
       "</table>\n",
       "</div>"
      ],
      "text/plain": [
       "        Drug  Timepoint  Metastatic Sites\n",
       "0  Capomulin          0          0.000000\n",
       "1  Capomulin          5          0.160000\n",
       "2  Capomulin         10          0.320000\n",
       "3  Capomulin         15          0.375000\n",
       "4  Capomulin         20          0.652174"
      ]
     },
     "execution_count": 8,
     "metadata": {},
     "output_type": "execute_result"
    }
   ],
   "source": [
    "# Store the Mean Met. Site Data Grouped by Drug and Timepoint \n",
    "mean_met = data_set.groupby([\"Drug\",\"Timepoint\"]).mean()[\"Metastatic Sites\"]\n",
    "# Convert to DataFrame\n",
    "mean_met_df = pd.DataFrame(mean_met).reset_index()\n",
    "# Preview DataFrame\n",
    "mean_met_df.head()"
   ]
  },
  {
   "cell_type": "code",
   "execution_count": 9,
   "metadata": {},
   "outputs": [
    {
     "data": {
      "text/html": [
       "<div>\n",
       "<style scoped>\n",
       "    .dataframe tbody tr th:only-of-type {\n",
       "        vertical-align: middle;\n",
       "    }\n",
       "\n",
       "    .dataframe tbody tr th {\n",
       "        vertical-align: top;\n",
       "    }\n",
       "\n",
       "    .dataframe thead th {\n",
       "        text-align: right;\n",
       "    }\n",
       "</style>\n",
       "<table border=\"1\" class=\"dataframe\">\n",
       "  <thead>\n",
       "    <tr style=\"text-align: right;\">\n",
       "      <th></th>\n",
       "      <th>Drug</th>\n",
       "      <th>Timepoint</th>\n",
       "      <th>Metastatic Sites</th>\n",
       "    </tr>\n",
       "  </thead>\n",
       "  <tbody>\n",
       "    <tr>\n",
       "      <th>0</th>\n",
       "      <td>Capomulin</td>\n",
       "      <td>0</td>\n",
       "      <td>0.000000</td>\n",
       "    </tr>\n",
       "    <tr>\n",
       "      <th>1</th>\n",
       "      <td>Capomulin</td>\n",
       "      <td>5</td>\n",
       "      <td>0.074833</td>\n",
       "    </tr>\n",
       "    <tr>\n",
       "      <th>2</th>\n",
       "      <td>Capomulin</td>\n",
       "      <td>10</td>\n",
       "      <td>0.125433</td>\n",
       "    </tr>\n",
       "    <tr>\n",
       "      <th>3</th>\n",
       "      <td>Capomulin</td>\n",
       "      <td>15</td>\n",
       "      <td>0.132048</td>\n",
       "    </tr>\n",
       "    <tr>\n",
       "      <th>4</th>\n",
       "      <td>Capomulin</td>\n",
       "      <td>20</td>\n",
       "      <td>0.161621</td>\n",
       "    </tr>\n",
       "  </tbody>\n",
       "</table>\n",
       "</div>"
      ],
      "text/plain": [
       "        Drug  Timepoint  Metastatic Sites\n",
       "0  Capomulin          0          0.000000\n",
       "1  Capomulin          5          0.074833\n",
       "2  Capomulin         10          0.125433\n",
       "3  Capomulin         15          0.132048\n",
       "4  Capomulin         20          0.161621"
      ]
     },
     "execution_count": 9,
     "metadata": {},
     "output_type": "execute_result"
    }
   ],
   "source": [
    "# Store the Standard Error associated with Met. Sites Grouped by Drug and Timepoint \n",
    "met_error = data_set.groupby([\"Drug\",\"Timepoint\"]).sem()[\"Metastatic Sites\"]\n",
    "# Convert to DataFrame\n",
    "met_error_df = pd.DataFrame(met_error).reset_index()\n",
    "# Preview DataFrame\n",
    "met_error_df.head()"
   ]
  },
  {
   "cell_type": "code",
   "execution_count": 133,
   "metadata": {},
   "outputs": [
    {
     "data": {
      "image/png": "[encoded data removed]",
      "text/plain": [
       "<Figure size 432x288 with 1 Axes>"
      ]
     },
     "metadata": {
      "needs_background": "light"
     },
     "output_type": "display_data"
    }
   ],
   "source": [
    "# Generate the Plot (with Error Bars)\n",
    "#Locate Drugs \n",
    "mean_capomulin = mean_met_df.loc[mean_met_df[\"Drug\"] == \"Capomulin\",:]\n",
    "mean_infubinol = mean_met_df.loc[mean_met_df[\"Drug\"] == \"Infubinol\",:]\n",
    "mean_ketapril = mean_met_df.loc[mean_met_df[\"Drug\"] == \"Ketapril\",:]\n",
    "mean_placebo = mean_met_df.loc[mean_met_df[\"Drug\"] == \"Placebo\",:]\n",
    "\n",
    "# plot errorbars \n",
    "plt.errorbar(mean_capomulin [\"Timepoint\"],mean_capomulin[\"Metastatic Sites\"] ,yerr = (.05 +.03 * mean_capomulin[\"Metastatic Sites\"]) , fmt ='s',color=\"mediumvioletred\",ls = \":\") \n",
    "plt.errorbar(mean_infubinol [\"Timepoint\"],mean_infubinol[\"Metastatic Sites\"] ,yerr = (.05 +.03 * mean_infubinol[\"Metastatic Sites\"]) , fmt ='x',color =\"orange\",ls = \":\") \n",
    "plt.errorbar(mean_ketapril [\"Timepoint\"],mean_ketapril[\"Metastatic Sites\"] ,yerr = (.05 +.03 * mean_ketapril[\"Metastatic Sites\"]) , fmt ='o',color=\"darkviolet\",ls = \":\")\n",
    "plt.errorbar(mean_placebo [\"Timepoint\"],mean_placebo[\"Metastatic Sites\"] ,yerr = (.05 +.03 * mean_placebo[\"Metastatic Sites\"]) , fmt ='d',ls = \":\") \n",
    "\n",
    "# Show Time\n",
    "plt.title(\"Metastic Spread During Treatment\")\n",
    "plt.xlabel(\"Treatment Duration (Days)\")\n",
    "plt.ylabel(\"Metastic Sites\")\n",
    "plt.grid(which='major', axis='y', linestyle='--')\n",
    "plt.legend([\"Capomulin\",\"Infubinol\",\"Ketapril\",\"Placebo\"])\n",
    "\n",
    "# Save plot \n",
    "plt.savefig(\"../Resources.png\")\n"
   ]
  },
  {
   "cell_type": "code",
   "execution_count": 11,
   "metadata": {},
   "outputs": [
    {
     "data": {
      "text/html": [
       "<div>\n",
       "<style scoped>\n",
       "    .dataframe tbody tr th:only-of-type {\n",
       "        vertical-align: middle;\n",
       "    }\n",
       "\n",
       "    .dataframe tbody tr th {\n",
       "        vertical-align: top;\n",
       "    }\n",
       "\n",
       "    .dataframe thead th {\n",
       "        text-align: right;\n",
       "    }\n",
       "</style>\n",
       "<table border=\"1\" class=\"dataframe\">\n",
       "  <thead>\n",
       "    <tr style=\"text-align: right;\">\n",
       "      <th></th>\n",
       "      <th>Drug</th>\n",
       "      <th>Timepoint</th>\n",
       "      <th>Mouse ID</th>\n",
       "    </tr>\n",
       "  </thead>\n",
       "  <tbody>\n",
       "    <tr>\n",
       "      <th>0</th>\n",
       "      <td>Capomulin</td>\n",
       "      <td>0</td>\n",
       "      <td>25</td>\n",
       "    </tr>\n",
       "    <tr>\n",
       "      <th>1</th>\n",
       "      <td>Capomulin</td>\n",
       "      <td>5</td>\n",
       "      <td>25</td>\n",
       "    </tr>\n",
       "    <tr>\n",
       "      <th>2</th>\n",
       "      <td>Capomulin</td>\n",
       "      <td>10</td>\n",
       "      <td>25</td>\n",
       "    </tr>\n",
       "    <tr>\n",
       "      <th>3</th>\n",
       "      <td>Capomulin</td>\n",
       "      <td>15</td>\n",
       "      <td>24</td>\n",
       "    </tr>\n",
       "    <tr>\n",
       "      <th>4</th>\n",
       "      <td>Capomulin</td>\n",
       "      <td>20</td>\n",
       "      <td>23</td>\n",
       "    </tr>\n",
       "  </tbody>\n",
       "</table>\n",
       "</div>"
      ],
      "text/plain": [
       "        Drug  Timepoint  Mouse ID\n",
       "0  Capomulin          0        25\n",
       "1  Capomulin          5        25\n",
       "2  Capomulin         10        25\n",
       "3  Capomulin         15        24\n",
       "4  Capomulin         20        23"
      ]
     },
     "execution_count": 11,
     "metadata": {},
     "output_type": "execute_result"
    }
   ],
   "source": [
    "# Store the Count of Mice Grouped by Drug and Timepoint (W can pass any metric)\n",
    "mice_count = data_set.groupby([\"Drug\",\"Timepoint\"]).count()[\"Mouse ID\"]#/[\"Mouse ID\"].loc[0]*100\n",
    "# Convert to DataFrame\n",
    "mice_count_df = pd.DataFrame(mice_count).reset_index()\n",
    "# Preview DataFrame\n",
    "mice_count_df.head()"
   ]
  },
  {
   "cell_type": "code",
   "execution_count": 12,
   "metadata": {},
   "outputs": [
    {
     "data": {
      "text/plain": [
       "<Figure size 432x288 with 0 Axes>"
      ]
     },
     "metadata": {},
     "output_type": "display_data"
    }
   ],
   "source": []
  },
  {
   "cell_type": "code",
   "execution_count": 13,
   "metadata": {},
   "outputs": [
    {
     "data": {
      "text/plain": [
       "0    100.0\n",
       "1    100.0\n",
       "2    100.0\n",
       "3     96.0\n",
       "4     92.0\n",
       "Name: Mouse ID, dtype: float64"
      ]
     },
     "execution_count": 13,
     "metadata": {},
     "output_type": "execute_result"
    }
   ],
   "source": [
    "mice_percent = mice_count_df[\"Mouse ID\"]/mice_count_df[\"Mouse ID\"].iloc[0] *100\n",
    "mice_percent.head()"
   ]
  },
  {
   "cell_type": "code",
   "execution_count": 14,
   "metadata": {},
   "outputs": [
    {
     "data": {
      "text/plain": [
       "<matplotlib.legend.Legend at 0x1a1775b390>"
      ]
     },
     "execution_count": 14,
     "metadata": {},
     "output_type": "execute_result"
    },
    {
     "data": {
      "image/png": "[encoded data removed]",
      "text/plain": [
       "<Figure size 432x288 with 1 Axes>"
      ]
     },
     "metadata": {
      "needs_background": "light"
     },
     "output_type": "display_data"
    }
   ],
   "source": [
    "# Generate the Plot (Accounting for percentages)\n",
    "#locate Drugs \n",
    "count_capomulin = mice_count_df.loc[mice_count_df[\"Drug\"] == \"Capomulin\",:]\n",
    "count_infubinol = mice_count_df.loc[mice_count_df[\"Drug\"] == \"Infubinol\",:]\n",
    "count_ketapril = mice_count_df.loc[mice_count_df[\"Drug\"] == \"Ketapril\",:]\n",
    "count_placebo = mice_count_df.loc[mice_count_df[\"Drug\"] == \"Placebo\",:]\n",
    "\n",
    "#Covert to percents \n",
    "percent_capomulin= count_capomulin[\"Mouse ID\"]/count_capomulin[\"Mouse ID\"].iloc[0]*100\n",
    "percent_infubinol = count_infubinol[\"Mouse ID\"]/count_infubinol[\"Mouse ID\"].iloc[0]*100\n",
    "percent_ketapril =count_ketapril[\"Mouse ID\"]/count_ketapril[\"Mouse ID\"].iloc[0]*100\n",
    "percent_placebo=count_placebo[\"Mouse ID\"]/count_placebo[\"Mouse ID\"].iloc[0]*100\n",
    "\n",
    "# Plot the points\n",
    "plt.plot(count_capomulin [\"Timepoint\"],percent_capomulin ,marker = 's',color=\"mediumvioletred\") \n",
    "plt.plot(count_infubinol [\"Timepoint\"],percent_infubinol ,marker = 'x',color=\"orange\")\n",
    "plt.plot(count_ketapril [\"Timepoint\"],percent_ketapril, marker ='o',color=\"darkviolet\")\n",
    "plt.plot(count_placebo [\"Timepoint\"],percent_placebo ,marker = 'd')\n",
    "\n",
    "\n",
    "# Show the Figure\n",
    "plt.title(\"Survival Percentage During Treatment\")\n",
    "plt.xlabel(\"Treatment Duration (Days)\")\n",
    "plt.ylabel(\"Survival Rate (%)\")\n",
    "plt.grid(which='major', axis='y', linestyle='--')\n",
    "plt.legend([\"Capomulin\",\"Infubinol\",\"Ketapril\",\"Placebo\"])\n"
   ]
  },
  {
   "cell_type": "code",
   "execution_count": 146,
   "metadata": {},
   "outputs": [
    {
     "data": {
      "text/plain": [
       "Text(3, 6, '51.30%')"
      ]
     },
     "execution_count": 146,
     "metadata": {},
     "output_type": "execute_result"
    },
    {
     "data": {
      "image/png": "[encoded data removed]",
      "text/plain": [
       "<Figure size 432x288 with 1 Axes>"
      ]
     },
     "metadata": {
      "needs_background": "light"
     },
     "output_type": "display_data"
    }
   ],
   "source": [
    "# Calculate the percent changes for each drug\n",
    "\n",
    "mean_capomulin = tumor_df.loc[tumor_df[\"Drug\"] == \"Capomulin\",:]\n",
    "mean_infubinol = tumor_df.loc[tumor_df[\"Drug\"] == \"Infubinol\",:]\n",
    "mean_ketapril = tumor_df.loc[tumor_df[\"Drug\"] == \"Ketapril\",:]\n",
    "mean_placebo = tumor_df.loc[tumor_df[\"Drug\"] == \"Placebo\",:]\n",
    "\n",
    "c = (mean_capomulin[\"Tumor Volume (mm3)\"].iloc[9]-mean_capomulin[\"Tumor Volume (mm3)\"].iloc[0])/mean_capomulin[\"Tumor Volume (mm3)\"].iloc[0]*100\n",
    "i = (mean_infubinol[\"Tumor Volume (mm3)\"].iloc[9]-mean_infubinol[\"Tumor Volume (mm3)\"].iloc[0])/mean_infubinol[\"Tumor Volume (mm3)\"].iloc[0]*100\n",
    "k = (mean_ketapril[\"Tumor Volume (mm3)\"].iloc[9]-mean_ketapril[\"Tumor Volume (mm3)\"].iloc[0])/mean_ketapril[\"Tumor Volume (mm3)\"].iloc[0]*100\n",
    "p = (mean_placebo[\"Tumor Volume (mm3)\"].iloc[9]-mean_placebo[\"Tumor Volume (mm3)\"].iloc[0])/mean_placebo[\"Tumor Volume (mm3)\"].iloc[0]*100\n",
    "\n",
    "plt.bar(mean_capomulin[\"Drug\"],c, color= \"green\")\n",
    "plt.bar(mean_infubinol[\"Drug\"],i, color= \"red\")\n",
    "plt.bar(mean_ketapril[\"Drug\"],k, color = \"red\")\n",
    "plt.bar(mean_placebo[\"Drug\"],p, color = \"red\")\n",
    "plt.grid()\n",
    "plt.title(\"Tumor Change Over 45 Days of Treatment\")\n",
    "plt.ylabel(\"% Tumor Volume Change\")\n",
    "\n",
    "plt.text(0,-6,\"{:.2f}%\".format(c), horizontalalignment ='center',color ='white')\n",
    "plt.text(1,6,\"{:.2f}%\".format(i), horizontalalignment ='center', color ='white')\n",
    "plt.text(2,6,\"{:.2f}%\".format(k), horizontalalignment ='center',color ='white')\n",
    "plt.text(3,6,\"{:.2f}%\".format(p), horizontalalignment ='center',color ='white')\n",
    "\n",
    "# Display the data to confirm\n"
   ]
  },
  {
   "cell_type": "code",
   "execution_count": 132,
   "metadata": {},
   "outputs": [
    {
     "data": {
      "text/plain": [
       "<Figure size 432x288 with 0 Axes>"
      ]
     },
     "metadata": {},
     "output_type": "display_data"
    }
   ],
   "source": [
    "# Save plot\n",
    "plt.savefig(\"../Resources.png\")"
   ]
  },
  {
   "cell_type": "code",
   "execution_count": null,
   "metadata": {},
   "outputs": [],
   "source": []
  }
 ],
 "metadata": {
  "kernelspec": {
   "display_name": "Python 3",
   "language": "python",
   "name": "python3"
  },
  "language_info": {
   "codemirror_mode": {
    "name": "ipython",
    "version": 3
   },
   "file_extension": ".py",
   "mimetype": "text/x-python",
   "name": "python",
   "nbconvert_exporter": "python",
   "pygments_lexer": "ipython3",
   "version": "3.7.3"
  }
 },
 "nbformat": 4,
 "nbformat_minor": 2
}
